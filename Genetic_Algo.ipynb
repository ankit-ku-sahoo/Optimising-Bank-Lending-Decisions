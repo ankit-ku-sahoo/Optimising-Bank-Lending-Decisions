{
  "cells": [
    {
      "cell_type": "code",
      "execution_count": 1,
      "metadata": {
        "id": "6iAbvkRs9xJP"
      },
      "outputs": [],
      "source": [
        "# Ankit Kumar Sahoo\n",
        "# 19IM10006\n",
        "\n",
        "from numpy.random import randint\n",
        "from numpy.random import rand\n",
        "\n",
        "D = 60\n",
        "K = 0.15\n",
        "rt = 0.01\n",
        "#format of the data \n",
        "#[Loan Size -> L, interest -> rl,rating, loss -> lambda]\n",
        "#Customers details provided in the question \n",
        "customers = [[10, 0.021, 'AAA', 0.0002],\n",
        "             [25, 0.022, 'BB', 0.0058],\n",
        "             [4, 0.021, 'A', 0.001],\n",
        "             [11, 0.027, 'AA', 0.0003],\n",
        "             [18, 0.025, 'BBB', 0.0024],\n",
        "             [3, 0.026, 'AAA', 0.0002],\n",
        "             [17, 0.023, 'BB', 0.0058],\n",
        "             [15, 0.021, 'AAA', 0.0002],\n",
        "             [9, 0.028, 'A', 0.001],\n",
        "             [10, 0.022, 'A', 0.001]\n",
        "            ]"
      ]
    },
    {
      "cell_type": "code",
      "execution_count": 2,
      "metadata": {
        "id": "glztx_TJIsNL"
      },
      "outputs": [],
      "source": [
        "# objective function (Basically fitness function)\n",
        "# rl * L  - lambda +  rt*Transactional cost  - 0.009*D - lambda\n",
        "def fitness(x):\n",
        "  sum  = -0.009*D\n",
        "  for i in range(len(x)):\n",
        "    if x[i] == 1:\n",
        "      transaction_cost = (1-K)*D - customers[i][0]\n",
        "      sum = sum + customers[i][1]*customers[i][0] - 2*customers[i][3] + 0.01 * transaction_cost\n",
        "  return (sum)"
      ]
    },
    {
      "cell_type": "code",
      "execution_count": 3,
      "metadata": {
        "id": "fSLFe1iRqoZn"
      },
      "outputs": [],
      "source": [
        "#Genetic Validation\n",
        "def validation(x):\n",
        "  sum = 0\n",
        "  for i in range(len(x)):\n",
        "    if x[i] == 1:\n",
        "      sum = sum + customers[i][0] \n",
        "  return (sum)"
      ]
    },
    {
      "cell_type": "code",
      "execution_count": 4,
      "metadata": {
        "id": "fG6QbwlmnZGN"
      },
      "outputs": [],
      "source": [
        "# Roulette wheel selection method\n",
        "# Generating the cummulative prob of selecting the chromosome based on fitness\n",
        "# Selecting the individual using rando numbers \n",
        "def roulette_select(population, num):\n",
        "    fitness_arr = []\n",
        "    for i in population:\n",
        "      fitness_arr.append(fitness(i))\n",
        "\n",
        "    total_fitness = float(sum(fitness_arr))\n",
        "\n",
        "    cummulative_fitness = []\n",
        "    for i in fitness_arr:\n",
        "      cummulative_fitness.append(i/total_fitness)\n",
        "    \n",
        "    prob = cummulative_fitness\n",
        "    for i in range(1,len(cummulative_fitness)):\n",
        "      prob[i] += prob[i-1]\n",
        "\n",
        "    new_population = []\n",
        "    for n in range(num):\n",
        "        r = rand()\n",
        "        for (i, individual) in enumerate(population):\n",
        "            if r <= prob[i]:\n",
        "                new_population.append(individual)\n",
        "                break\n",
        "    return new_population"
      ]
    },
    {
      "cell_type": "code",
      "execution_count": 5,
      "metadata": {
        "id": "8V2zzTg-_stA"
      },
      "outputs": [],
      "source": [
        "# Single point crossover where R_CROSS is crossover probability\n",
        "# Implemented genetic validation as well so that newly generated chromosomes follows constraints\n",
        "def crossover(p1, p2, r_cross):\n",
        "  c1, c2 = p1.copy(), p2.copy() \n",
        "  if rand() < r_cross:\n",
        "    pt = randint(1, len(p1)-2)\n",
        "    c1 = p1[:pt] + p2[pt:]\n",
        "    c2 = p2[:pt] + p1[pt:]\n",
        "  if validation(c1) > (1-K)*D :\n",
        "    c1 = p1\n",
        "  if validation(c2) > (1-K)*D :\n",
        "    c2 = p2\n",
        "  return [c1, c2]"
      ]
    },
    {
      "cell_type": "code",
      "execution_count": 6,
      "metadata": {
        "id": "pN7Bzixi_vMy"
      },
      "outputs": [],
      "source": [
        "# Implemented mutation using mutation prob\n",
        "# Implemented mutation validation as well\n",
        "def mutation(bitstr, r_mut):\n",
        "  for i in range(len(bitstr)):\n",
        "    if rand() < r_mut:\n",
        "      bitstr[i] = 1 - bitstr[i]   \n",
        "      if validation(bitstr)>((1-K)*D) :\n",
        "        bitstr[i] = 1 - bitstr[i]"
      ]
    },
    {
      "cell_type": "code",
      "execution_count": 7,
      "metadata": {
        "id": "N40enhq8_xhv"
      },
      "outputs": [],
      "source": [
        "# Genetic Algorithm\n",
        "def genetic_algorithm(objective, n_bits, n_iter, n_pop, r_cross, r_mut):\n",
        "    pop = []\n",
        "    i = 1\n",
        "    while i <= n_pop:\n",
        "        curr = randint(0, 2, n_bits).tolist()\n",
        "        if validation(curr)<= (1-K)*D:\n",
        "          pop.append(curr)\n",
        "          i = i + 1\n",
        "    best,best_eval = 0, objective(pop[0])\n",
        "    for gen in range(n_iter):\n",
        "        scores = [objective(c) for c in pop]\n",
        "        for i in range(n_pop):\n",
        "          if scores[i] > best_eval:\n",
        "            best, best_eval = pop[i], scores[i]\n",
        "        print(\"Generation %d: New Best fitness(%s) = %.3f\" % (gen+1,  pop[i], scores[i]))\n",
        "        selected = roulette_select(pop,n_pop)\n",
        "        children = list()\n",
        "        for i in range(0, n_pop, 2):\n",
        "          p1, p2 = selected[i], selected[i+1]\n",
        "          for c in crossover(p1, p2, r_cross):\n",
        "            mutation(c, r_mut)\n",
        "            children.append(c)\n",
        "        pop = children\n",
        "    return [best, best_eval]"
      ]
    },
    {
      "cell_type": "code",
      "execution_count": 8,
      "metadata": {
        "colab": {
          "base_uri": "https://localhost:8080/"
        },
        "id": "uXpiiPTG_z9_",
        "outputId": "ca075d14-f0f1-4212-8562-d2f614b70dae"
      },
      "outputs": [
        {
          "output_type": "stream",
          "name": "stdout",
          "text": [
            "Generation 1: New Best fitness([1, 0, 1, 0, 1, 1, 0, 0, 0, 0]) = 1.964\n",
            "Generation 2: New Best fitness([1, 0, 0, 1, 0, 0, 0, 0, 1, 0]) = 1.446\n",
            "Generation 3: New Best fitness([0, 0, 0, 0, 0, 1, 1, 1, 1, 0]) = 2.082\n",
            "Generation 4: New Best fitness([0, 0, 1, 0, 1, 1, 1, 0, 0, 0]) = 2.064\n",
            "Generation 5: New Best fitness([1, 0, 1, 0, 0, 1, 1, 0, 0, 1]) = 2.537\n",
            "Generation 6: New Best fitness([0, 0, 1, 0, 0, 1, 1, 1, 0, 0]) = 1.964\n",
            "Generation 7: New Best fitness([1, 0, 1, 0, 0, 1, 1, 0, 1, 0]) = 2.579\n",
            "Generation 8: New Best fitness([1, 0, 1, 0, 0, 1, 1, 0, 1, 0]) = 2.579\n",
            "Generation 9: New Best fitness([1, 0, 1, 0, 0, 1, 1, 0, 1, 0]) = 2.579\n",
            "Generation 10: New Best fitness([1, 0, 1, 0, 1, 0, 1, 0, 0, 0]) = 2.126\n",
            "Generation 11: New Best fitness([1, 0, 1, 0, 0, 0, 1, 0, 0, 0]) = 1.351\n",
            "Generation 12: New Best fitness([1, 0, 1, 0, 0, 1, 1, 0, 1, 0]) = 2.579\n",
            "Generation 13: New Best fitness([0, 0, 1, 0, 1, 0, 1, 0, 0, 0]) = 1.507\n",
            "Generation 14: New Best fitness([1, 0, 1, 0, 0, 0, 0, 0, 1, 0]) = 1.302\n",
            "Generation 15: New Best fitness([1, 0, 1, 1, 0, 0, 0, 0, 1, 1]) = 2.626\n",
            "Generation 16: New Best fitness([1, 0, 1, 1, 0, 0, 0, 0, 1, 1]) = 2.626\n",
            "Generation 17: New Best fitness([1, 0, 1, 1, 0, 0, 0, 0, 1, 1]) = 2.626\n",
            "Generation 18: New Best fitness([0, 0, 1, 1, 0, 0, 0, 0, 1, 1]) = 2.006\n",
            "Generation 19: New Best fitness([1, 0, 0, 0, 0, 0, 0, 0, 1, 1]) = 1.378\n",
            "Generation 20: New Best fitness([1, 0, 0, 1, 0, 0, 0, 0, 1, 1]) = 2.074\n",
            "Generation 21: New Best fitness([1, 0, 1, 1, 0, 0, 0, 0, 1, 1]) = 2.626\n",
            "Generation 22: New Best fitness([1, 0, 0, 1, 0, 0, 0, 0, 1, 0]) = 1.446\n",
            "Generation 23: New Best fitness([1, 0, 1, 0, 0, 0, 1, 0, 1, 0]) = 2.021\n",
            "Generation 24: New Best fitness([1, 0, 1, 0, 0, 0, 1, 0, 1, 0]) = 2.021\n",
            "Generation 25: New Best fitness([0, 0, 0, 1, 1, 0, 0, 0, 1, 1]) = 2.230\n",
            "Generation 26: New Best fitness([0, 0, 0, 1, 1, 1, 0, 0, 1, 0]) = 2.159\n",
            "Generation 27: New Best fitness([1, 0, 1, 0, 0, 0, 1, 0, 1, 0]) = 2.021\n",
            "Generation 28: New Best fitness([0, 0, 0, 1, 1, 1, 0, 0, 1, 0]) = 2.159\n",
            "Generation 29: New Best fitness([0, 0, 0, 1, 1, 0, 0, 0, 1, 1]) = 2.230\n",
            "Generation 30: New Best fitness([0, 0, 0, 1, 1, 0, 0, 0, 1, 1]) = 2.230\n",
            "Generation 31: New Best fitness([0, 0, 0, 1, 1, 1, 0, 0, 1, 1]) = 2.787\n",
            "Generation 32: New Best fitness([1, 0, 1, 1, 0, 1, 0, 0, 0, 0]) = 1.886\n",
            "Generation 33: New Best fitness([1, 0, 1, 1, 0, 0, 0, 0, 0, 0]) = 1.328\n",
            "Generation 34: New Best fitness([0, 0, 1, 1, 0, 1, 0, 0, 1, 1]) = 2.564\n",
            "Generation 35: New Best fitness([0, 0, 0, 1, 1, 0, 0, 0, 1, 1]) = 2.230\n",
            "Generation 36: New Best fitness([1, 0, 0, 1, 0, 1, 0, 1, 1, 0]) = 2.678\n",
            "Generation 37: New Best fitness([1, 0, 1, 1, 0, 0, 0, 1, 1, 0]) = 2.673\n",
            "Generation 38: New Best fitness([0, 0, 0, 0, 0, 1, 0, 1, 1, 0]) = 1.362\n",
            "Generation 39: New Best fitness([1, 1, 1, 1, 0, 0, 0, 0, 0, 0]) = 2.126\n",
            "Generation 40: New Best fitness([1, 0, 1, 1, 0, 0, 0, 1, 1, 0]) = 2.673\n",
            "Generation 41: New Best fitness([1, 0, 0, 1, 0, 1, 0, 0, 0, 0]) = 1.334\n",
            "Generation 42: New Best fitness([1, 1, 1, 1, 0, 0, 0, 0, 0, 0]) = 2.126\n",
            "Generation 43: New Best fitness([1, 0, 0, 1, 0, 1, 0, 1, 1, 0]) = 2.678\n",
            "Generation 44: New Best fitness([0, 0, 0, 1, 0, 1, 0, 1, 0, 0]) = 1.389\n",
            "Generation 45: New Best fitness([1, 0, 0, 1, 0, 1, 0, 1, 1, 0]) = 2.678\n",
            "Generation 46: New Best fitness([0, 0, 0, 1, 0, 1, 0, 1, 1, 0]) = 2.059\n",
            "Generation 47: New Best fitness([1, 0, 0, 1, 0, 1, 0, 1, 1, 0]) = 2.678\n",
            "Generation 48: New Best fitness([0, 0, 1, 0, 0, 1, 0, 1, 1, 0]) = 1.914\n",
            "Generation 49: New Best fitness([1, 1, 1, 1, 0, 0, 0, 0, 0, 0]) = 2.126\n",
            "Generation 50: New Best fitness([1, 0, 1, 1, 0, 1, 0, 0, 0, 1]) = 2.514\n",
            "Generation 51: New Best fitness([1, 0, 1, 0, 0, 1, 0, 1, 1, 1]) = 3.162\n",
            "Generation 52: New Best fitness([1, 0, 1, 0, 0, 1, 0, 1, 1, 1]) = 3.162\n",
            "Generation 53: New Best fitness([1, 0, 1, 0, 0, 1, 0, 1, 1, 1]) = 3.162\n",
            "Generation 54: New Best fitness([1, 0, 1, 0, 0, 1, 0, 1, 1, 0]) = 2.534\n",
            "Generation 55: New Best fitness([1, 0, 1, 0, 0, 1, 0, 1, 1, 1]) = 3.162\n",
            "Generation 56: New Best fitness([1, 0, 1, 0, 0, 1, 0, 1, 1, 1]) = 3.162\n",
            "Generation 57: New Best fitness([1, 0, 1, 0, 0, 1, 0, 0, 1, 1]) = 2.487\n",
            "Generation 58: New Best fitness([1, 0, 1, 0, 0, 1, 0, 1, 1, 0]) = 2.534\n",
            "Generation 59: New Best fitness([1, 0, 1, 0, 0, 1, 0, 1, 1, 0]) = 2.534\n",
            "Generation 60: New Best fitness([1, 0, 1, 0, 0, 1, 0, 1, 1, 1]) = 3.162\n",
            "Generation 61: New Best fitness([1, 0, 1, 0, 0, 1, 0, 1, 1, 1]) = 3.162\n",
            "Generation 62: New Best fitness([1, 0, 1, 0, 0, 0, 0, 1, 1, 1]) = 2.604\n",
            "Generation 63: New Best fitness([0, 0, 1, 0, 0, 1, 0, 1, 1, 1]) = 2.542\n",
            "Generation 64: New Best fitness([1, 0, 1, 0, 0, 1, 0, 1, 1, 1]) = 3.162\n",
            "Generation 65: New Best fitness([1, 0, 1, 0, 0, 1, 0, 0, 1, 1]) = 2.487\n",
            "Generation 66: New Best fitness([1, 0, 1, 0, 0, 0, 0, 0, 1, 1]) = 1.930\n",
            "Generation 67: New Best fitness([1, 0, 1, 0, 0, 1, 0, 1, 1, 1]) = 3.162\n",
            "Generation 68: New Best fitness([1, 0, 0, 0, 0, 1, 0, 1, 1, 0]) = 1.982\n",
            "Generation 69: New Best fitness([1, 0, 1, 0, 0, 0, 0, 0, 1, 1]) = 1.930\n",
            "Generation 70: New Best fitness([1, 0, 0, 0, 0, 1, 0, 0, 0, 1]) = 1.265\n",
            "Generation 71: New Best fitness([1, 0, 0, 0, 0, 1, 0, 0, 1, 1]) = 1.935\n",
            "Generation 72: New Best fitness([1, 0, 1, 0, 0, 0, 0, 0, 1, 1]) = 1.930\n",
            "Generation 73: New Best fitness([1, 0, 1, 0, 0, 1, 0, 0, 1, 1]) = 2.487\n",
            "Generation 74: New Best fitness([1, 0, 0, 1, 0, 1, 0, 1, 0, 0]) = 2.008\n",
            "Generation 75: New Best fitness([1, 0, 1, 1, 0, 1, 0, 0, 1, 1]) = 3.184\n",
            "Generation 76: New Best fitness([1, 0, 1, 1, 0, 0, 0, 0, 1, 1]) = 2.626\n",
            "Generation 77: New Best fitness([0, 0, 1, 0, 0, 1, 1, 1, 1, 0]) = 2.634\n",
            "Generation 78: New Best fitness([0, 0, 1, 0, 0, 1, 1, 1, 1, 0]) = 2.634\n",
            "Generation 79: New Best fitness([0, 0, 1, 0, 0, 0, 0, 0, 1, 1]) = 1.310\n",
            "Generation 80: New Best fitness([1, 0, 1, 1, 0, 0, 0, 0, 1, 1]) = 2.626\n",
            "Generation 81: New Best fitness([0, 0, 1, 0, 1, 1, 0, 1, 0, 0]) = 2.019\n",
            "Generation 82: New Best fitness([1, 0, 1, 1, 0, 0, 0, 0, 1, 1]) = 2.626\n",
            "Generation 83: New Best fitness([0, 0, 0, 1, 0, 1, 1, 0, 0, 0]) = 1.433\n",
            "Generation 84: New Best fitness([0, 0, 0, 1, 0, 1, 1, 0, 0, 0]) = 1.433\n",
            "Generation 85: New Best fitness([1, 0, 0, 1, 1, 1, 0, 0, 1, 0]) = 2.779\n",
            "Generation 86: New Best fitness([0, 0, 1, 0, 0, 0, 0, 0, 1, 0]) = 0.682\n",
            "Generation 87: New Best fitness([0, 0, 1, 0, 1, 1, 1, 0, 1, 0]) = 2.734\n",
            "Generation 88: New Best fitness([0, 0, 1, 0, 0, 1, 1, 0, 1, 0]) = 1.959\n",
            "Generation 89: New Best fitness([0, 0, 1, 0, 0, 1, 1, 0, 1, 0]) = 1.959\n",
            "Generation 90: New Best fitness([0, 1, 1, 0, 0, 1, 0, 0, 1, 0]) = 2.038\n",
            "Generation 91: New Best fitness([0, 0, 1, 0, 1, 1, 0, 0, 1, 1]) = 2.643\n",
            "Generation 92: New Best fitness([0, 0, 1, 0, 1, 1, 0, 0, 1, 1]) = 2.643\n",
            "Generation 93: New Best fitness([1, 0, 1, 0, 1, 1, 0, 0, 1, 0]) = 2.634\n",
            "Generation 94: New Best fitness([1, 1, 1, 0, 0, 1, 0, 0, 1, 0]) = 2.658\n",
            "Generation 95: New Best fitness([1, 0, 1, 0, 0, 1, 0, 0, 1, 1]) = 2.487\n",
            "Generation 96: New Best fitness([0, 1, 1, 0, 0, 1, 0, 0, 1, 0]) = 2.038\n",
            "Generation 97: New Best fitness([1, 1, 0, 0, 0, 1, 0, 0, 1, 0]) = 2.106\n",
            "Generation 98: New Best fitness([0, 1, 1, 0, 0, 0, 0, 0, 1, 0]) = 1.480\n",
            "Generation 99: New Best fitness([1, 1, 1, 0, 0, 0, 0, 0, 0, 0]) = 1.430\n",
            "Generation 100: New Best fitness([0, 1, 1, 0, 0, 1, 0, 0, 0, 0]) = 1.368\n",
            "GENETIC ALGORITHM\n",
            "fitness([1, 0, 1, 1, 0, 1, 0, 0, 1, 1]) = 3.183600\n"
          ]
        }
      ],
      "source": [
        "# total iterations\n",
        "n_iter = 100\n",
        "# bits\n",
        "n_bits = 10\n",
        "# population size\n",
        "n_pop = 10\n",
        "# crossover rate\n",
        "r_cross = 0.8\n",
        "# mutation rate\n",
        "r_mut = 0.05\n",
        "best, score = genetic_algorithm(fitness, n_bits, n_iter, n_pop, r_cross, r_mut)\n",
        "print('GENETIC ALGORITHM')\n",
        "print('fitness(%s) = %f' % (best, score))"
      ]
    },
    {
      "cell_type": "code",
      "execution_count": 9,
      "metadata": {
        "colab": {
          "base_uri": "https://localhost:8080/"
        },
        "id": "nguqTLsQ4-yF",
        "outputId": "9b1f1208-772a-4541-f5f7-42a04a127275"
      },
      "outputs": [
        {
          "output_type": "stream",
          "name": "stdout",
          "text": [
            "[1, 0, 1, 1, 0, 1, 0, 0, 1, 1]\n"
          ]
        }
      ],
      "source": [
        "print(best)"
      ]
    },
    {
      "cell_type": "code",
      "execution_count": 10,
      "metadata": {
        "colab": {
          "base_uri": "https://localhost:8080/"
        },
        "id": "PAIZZrgJ4-yI",
        "outputId": "db53427f-8053-4fba-a216-d3902f3fcb3d"
      },
      "outputs": [
        {
          "output_type": "execute_result",
          "data": {
            "text/plain": [
              "47"
            ]
          },
          "metadata": {},
          "execution_count": 10
        }
      ],
      "source": [
        "validation(best)"
      ]
    },
    {
      "cell_type": "code",
      "execution_count": 11,
      "metadata": {
        "colab": {
          "base_uri": "https://localhost:8080/"
        },
        "id": "A6qY_IW14-yK",
        "outputId": "7d9a8327-3965-4ef2-82f4-94c762164f07"
      },
      "outputs": [
        {
          "output_type": "stream",
          "name": "stdout",
          "text": [
            "3.1836\n"
          ]
        }
      ],
      "source": [
        "print(score)"
      ]
    }
  ],
  "metadata": {
    "colab": {
      "collapsed_sections": [],
      "name": "Genetic_Algo.ipynb",
      "provenance": []
    },
    "kernelspec": {
      "display_name": "Python 3",
      "language": "python",
      "name": "python3"
    },
    "language_info": {
      "codemirror_mode": {
        "name": "ipython",
        "version": 3
      },
      "file_extension": ".py",
      "mimetype": "text/x-python",
      "name": "python",
      "nbconvert_exporter": "python",
      "pygments_lexer": "ipython3",
      "version": "3.7.3"
    }
  },
  "nbformat": 4,
  "nbformat_minor": 0
}